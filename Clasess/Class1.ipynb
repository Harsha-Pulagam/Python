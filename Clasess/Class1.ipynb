{
 "cells": [
  {
   "cell_type": "markdown",
   "id": "947155e7",
   "metadata": {},
   "source": [
    "## print() fuction"
   ]
  },
  {
   "cell_type": "code",
   "execution_count": 1,
   "id": "9b7d6e40",
   "metadata": {},
   "outputs": [
    {
     "ename": "SyntaxError",
     "evalue": "invalid syntax (3650387503.py, line 1)",
     "output_type": "error",
     "traceback": [
      "\u001b[1;36m  File \u001b[1;32m\"C:\\Users\\Harsha_Pulagam\\AppData\\Local\\Temp\\ipykernel_18592\\3650387503.py\"\u001b[1;36m, line \u001b[1;32m1\u001b[0m\n\u001b[1;33m    print('Harsha's')\u001b[0m\n\u001b[1;37m                  ^\u001b[0m\n\u001b[1;31mSyntaxError\u001b[0m\u001b[1;31m:\u001b[0m invalid syntax\n"
     ]
    }
   ],
   "source": [
    "print('Harsha's')"
   ]
  },
  {
   "cell_type": "code",
   "execution_count": 2,
   "id": "dbb1d561",
   "metadata": {},
   "outputs": [
    {
     "name": "stdout",
     "output_type": "stream",
     "text": [
      "harsha's\n"
     ]
    }
   ],
   "source": [
    "print(\"harsha's\")"
   ]
  },
  {
   "cell_type": "code",
   "execution_count": 11,
   "id": "4d68b55e",
   "metadata": {},
   "outputs": [
    {
     "ename": "SyntaxError",
     "evalue": "invalid syntax (3861507065.py, line 1)",
     "output_type": "error",
     "traceback": [
      "\u001b[1;36m  File \u001b[1;32m\"C:\\Users\\Harsha_Pulagam\\AppData\\Local\\Temp\\ipykernel_18592\\3861507065.py\"\u001b[1;36m, line \u001b[1;32m1\u001b[0m\n\u001b[1;33m    print(\"harsha \"has\" been preparing for pyhton\")\u001b[0m\n\u001b[1;37m                   ^\u001b[0m\n\u001b[1;31mSyntaxError\u001b[0m\u001b[1;31m:\u001b[0m invalid syntax\n"
     ]
    }
   ],
   "source": [
    "print(\"harsha \"has\" been preparing for pyhton\")"
   ]
  },
  {
   "cell_type": "code",
   "execution_count": 13,
   "id": "9d7826eb",
   "metadata": {},
   "outputs": [
    {
     "name": "stdout",
     "output_type": "stream",
     "text": [
      "harsha \"has\" been preparing for pyhton\n"
     ]
    }
   ],
   "source": [
    "print('harsha \"has\" been preparing for pyhton')"
   ]
  },
  {
   "cell_type": "code",
   "execution_count": 15,
   "id": "388e9205",
   "metadata": {},
   "outputs": [
    {
     "name": "stdout",
     "output_type": "stream",
     "text": [
      "harsha \"has\" been preparing for pyhton\n"
     ]
    }
   ],
   "source": [
    "print(\"harsha \\\"has\\\" been preparing for pyhton\")"
   ]
  },
  {
   "cell_type": "code",
   "execution_count": 9,
   "id": "869f165b",
   "metadata": {},
   "outputs": [
    {
     "name": "stdout",
     "output_type": "stream",
     "text": [
      "harsha \"has\" been preparing for pyhton\n"
     ]
    }
   ],
   "source": [
    "print(\"\"\"harsha \"has\" been preparing for pyhton\"\"\")"
   ]
  },
  {
   "cell_type": "code",
   "execution_count": 10,
   "id": "3d71bd69",
   "metadata": {},
   "outputs": [
    {
     "ename": "SyntaxError",
     "evalue": "EOL while scanning string literal (1427562621.py, line 1)",
     "output_type": "error",
     "traceback": [
      "\u001b[1;36m  File \u001b[1;32m\"C:\\Users\\Harsha_Pulagam\\AppData\\Local\\Temp\\ipykernel_18592\\1427562621.py\"\u001b[1;36m, line \u001b[1;32m1\u001b[0m\n\u001b[1;33m    print(\"Good\u001b[0m\n\u001b[1;37m                ^\u001b[0m\n\u001b[1;31mSyntaxError\u001b[0m\u001b[1;31m:\u001b[0m EOL while scanning string literal\n"
     ]
    }
   ],
   "source": [
    "print(\"Good \n",
    "      morning\")"
   ]
  },
  {
   "cell_type": "code",
   "execution_count": 7,
   "id": "bc9f484c",
   "metadata": {},
   "outputs": [
    {
     "name": "stdout",
     "output_type": "stream",
     "text": [
      "Triple quotes will take care \n",
      "of everthing\n"
     ]
    }
   ],
   "source": [
    "print(\"\"\"Triple quotes will take care \n",
    "of everthing\"\"\")"
   ]
  },
  {
   "cell_type": "code",
   "execution_count": 16,
   "id": "1631f939",
   "metadata": {},
   "outputs": [],
   "source": [
    "name = \"harsha\""
   ]
  },
  {
   "cell_type": "code",
   "execution_count": 19,
   "id": "9d7e5b81",
   "metadata": {},
   "outputs": [
    {
     "name": "stdout",
     "output_type": "stream",
     "text": [
      "Hi i am harsha nice to meet you\n"
     ]
    }
   ],
   "source": [
    "#works but not used\n",
    "print(\"Hi i am \"+ name + \" nice to meet you\")"
   ]
  },
  {
   "cell_type": "code",
   "execution_count": 20,
   "id": "f9241d6c",
   "metadata": {},
   "outputs": [
    {
     "name": "stdout",
     "output_type": "stream",
     "text": [
      "Hi i am harsha nice to meet you\n"
     ]
    }
   ],
   "source": [
    "#f -> formated string method standard practice\n",
    "print(f\"Hi i am {name} nice to meet you\")"
   ]
  },
  {
   "cell_type": "code",
   "execution_count": 23,
   "id": "7e0e9f9f",
   "metadata": {},
   "outputs": [
    {
     "name": "stdout",
     "output_type": "stream",
     "text": [
      "Today is the first class of Python language\n"
     ]
    }
   ],
   "source": [
    "# f -> formatted string method\n",
    "num = \"first\"\n",
    "language = \"Python\"\n",
    "print(f\"Today is the {num} class of {language} language\") # current standard approach used in python"
   ]
  },
  {
   "cell_type": "code",
   "execution_count": 24,
   "id": "498b6b1e",
   "metadata": {},
   "outputs": [
    {
     "name": "stdout",
     "output_type": "stream",
     "text": [
      "Hi welcome to class of python language\n"
     ]
    }
   ],
   "source": [
    "language = \"python\"\n",
    "print(\"Hi welcome to class of {} language\".format(language)) # old way"
   ]
  },
  {
   "cell_type": "code",
   "execution_count": 22,
   "id": "8b798027",
   "metadata": {},
   "outputs": [
    {
     "name": "stdout",
     "output_type": "stream",
     "text": [
      "Today is the first class of Python language\n"
     ]
    }
   ],
   "source": [
    "num = \"first\"\n",
    "language = \"Python\"\n",
    "print(\"Today is the {} class of {} language\".format(num, language))#old approach"
   ]
  },
  {
   "cell_type": "raw",
   "id": "ce29f449",
   "metadata": {},
   "source": [
    "print(*objects, sep=' ', end='\\n', file=sys.stdout, flush=False)\n",
    "objects - object to the printed. * indicates that there may be more than one object\n",
    "sep - objects are separated by sep. Default value: ' '\n",
    "end - end is printed at last\n",
    "file - must be an object with write(string) method. If omitted, sys.stdout will be used which prints objects on the screen.\n",
    "flush - If True, the stream is forcibly flushed. Default value: False"
   ]
  },
  {
   "cell_type": "code",
   "execution_count": 26,
   "id": "47bdadd2",
   "metadata": {},
   "outputs": [],
   "source": [
    "a= \"harsha\"\n",
    "b= \"sai\"\n",
    "c= \"bharath\""
   ]
  },
  {
   "cell_type": "code",
   "execution_count": 27,
   "id": "0bfd20f5",
   "metadata": {},
   "outputs": [
    {
     "name": "stdout",
     "output_type": "stream",
     "text": [
      "harsha sai bharath\n"
     ]
    }
   ],
   "source": [
    "print(a,b,c)#3objects are being printed"
   ]
  },
  {
   "cell_type": "code",
   "execution_count": 28,
   "id": "72028b0b",
   "metadata": {},
   "outputs": [
    {
     "name": "stdout",
     "output_type": "stream",
     "text": [
      "harsha-sai-bharath\n"
     ]
    }
   ],
   "source": [
    "print(a,b,c,sep=\"-\")#default sep=\" \""
   ]
  },
  {
   "cell_type": "code",
   "execution_count": 29,
   "id": "15550596",
   "metadata": {},
   "outputs": [
    {
     "name": "stdout",
     "output_type": "stream",
     "text": [
      "harsha\n",
      "sai\n",
      "bharath\n"
     ]
    }
   ],
   "source": [
    "print(a)\n",
    "print(b)\n",
    "print(c)"
   ]
  },
  {
   "cell_type": "code",
   "execution_count": 31,
   "id": "2fbe5a32",
   "metadata": {},
   "outputs": [
    {
     "name": "stdout",
     "output_type": "stream",
     "text": [
      "harsha sai\n",
      "\n",
      "\n",
      "bharath\n"
     ]
    }
   ],
   "source": [
    "print(a,end=\" \")#default end =\"\\n\"which indicates new line\n",
    "print(b,end=\"\\n\\n\\n\")\n",
    "print(c)"
   ]
  },
  {
   "cell_type": "code",
   "execution_count": 32,
   "id": "98cbfdff",
   "metadata": {},
   "outputs": [],
   "source": [
    "sourceFile = open('python.txt', 'w')\n",
    "print('Pretty cool, huh!', file = sourceFile)\n",
    "sourceFile.close()"
   ]
  },
  {
   "cell_type": "raw",
   "id": "ca29f1e7",
   "metadata": {},
   "source": [
    "https://docs.python.org/2.5/ref/keywords.html\n",
    "Variable names should not contain any special characters like ^ % $ ! @ # ^ & * ( )\n",
    "variable names are case sensitive\n",
    "A variable name must start with a letter or the underscore character\n",
    "A variable name cannot start with a number\n",
    "A variable name can only contain alpha-numeric characters and underscores (A-z, 0-9, and _ )\n",
    "Variable names are case-sensitive (age, Age and AGE are three different variables)"
   ]
  },
  {
   "cell_type": "code",
   "execution_count": null,
   "id": "31742a4f",
   "metadata": {},
   "outputs": [],
   "source": [
    "_num = 10\n",
    "#_ before variable is standard practice which states that the variable is hidden"
   ]
  },
  {
   "cell_type": "code",
   "execution_count": 34,
   "id": "3e7817c2",
   "metadata": {},
   "outputs": [],
   "source": [
    "#single line comments"
   ]
  },
  {
   "cell_type": "code",
   "execution_count": 36,
   "id": "5cf5ea38",
   "metadata": {},
   "outputs": [
    {
     "name": "stdout",
     "output_type": "stream",
     "text": [
      "hi\n"
     ]
    }
   ],
   "source": [
    "\"\"\"multiline \n",
    "comments \"\"\"\n",
    "print(\"hi\")"
   ]
  },
  {
   "cell_type": "code",
   "execution_count": 39,
   "id": "9325c5ca",
   "metadata": {},
   "outputs": [
    {
     "name": "stdout",
     "output_type": "stream",
     "text": [
      "Name: harsha\n",
      "place: guntur\n",
      "year_of_birth: hars\n"
     ]
    },
    {
     "ename": "ValueError",
     "evalue": "invalid literal for int() with base 10: 'hars'",
     "output_type": "error",
     "traceback": [
      "\u001b[1;31m---------------------------------------------------------------------------\u001b[0m",
      "\u001b[1;31mValueError\u001b[0m                                Traceback (most recent call last)",
      "\u001b[1;32m~\\AppData\\Local\\Temp\\ipykernel_18592\\1430506169.py\u001b[0m in \u001b[0;36m<module>\u001b[1;34m\u001b[0m\n\u001b[0;32m      1\u001b[0m \u001b[0mname\u001b[0m \u001b[1;33m=\u001b[0m \u001b[0minput\u001b[0m\u001b[1;33m(\u001b[0m\u001b[1;34m\"Name: \"\u001b[0m\u001b[1;33m)\u001b[0m \u001b[1;31m# always gives you string values\u001b[0m\u001b[1;33m\u001b[0m\u001b[1;33m\u001b[0m\u001b[0m\n\u001b[0;32m      2\u001b[0m \u001b[0mplace\u001b[0m \u001b[1;33m=\u001b[0m \u001b[0minput\u001b[0m\u001b[1;33m(\u001b[0m\u001b[1;34m\"place: \"\u001b[0m\u001b[1;33m)\u001b[0m\u001b[1;33m\u001b[0m\u001b[1;33m\u001b[0m\u001b[0m\n\u001b[1;32m----> 3\u001b[1;33m \u001b[0myear_of_birth\u001b[0m \u001b[1;33m=\u001b[0m \u001b[0mint\u001b[0m\u001b[1;33m(\u001b[0m\u001b[0minput\u001b[0m\u001b[1;33m(\u001b[0m\u001b[1;34m\"year_of_birth: \"\u001b[0m\u001b[1;33m)\u001b[0m\u001b[1;33m)\u001b[0m \u001b[1;31m# convert this into integer\u001b[0m\u001b[1;33m\u001b[0m\u001b[1;33m\u001b[0m\u001b[0m\n\u001b[0m\u001b[0;32m      4\u001b[0m \u001b[1;33m\u001b[0m\u001b[0m\n\u001b[0;32m      5\u001b[0m \u001b[0mage\u001b[0m \u001b[1;33m=\u001b[0m \u001b[1;36m2023\u001b[0m \u001b[1;33m-\u001b[0m \u001b[0myear_of_birth\u001b[0m\u001b[1;33m\u001b[0m\u001b[1;33m\u001b[0m\u001b[0m\n",
      "\u001b[1;31mValueError\u001b[0m: invalid literal for int() with base 10: 'hars'"
     ]
    }
   ],
   "source": [
    "name = input(\"Name: \") # always gives you string values\n",
    "place = input(\"place: \")\n",
    "year_of_birth = int(input(\"year_of_birth: \")) # convert this into integer\n",
    "\n",
    "age = 2023 - year_of_birth\n",
    "\n",
    "print(f\"\"\"\n",
    "My name is: {name}\n",
    "I live at: {place}\n",
    "{name} is of age: {age}\n",
    "\"\"\")"
   ]
  },
  {
   "cell_type": "code",
   "execution_count": 41,
   "id": "331091e8",
   "metadata": {},
   "outputs": [
    {
     "name": "stdout",
     "output_type": "stream",
     "text": [
      "False\n"
     ]
    }
   ],
   "source": [
    "a=0\n",
    "a=bool(a)\n",
    "type(a)\n",
    "print(a)"
   ]
  },
  {
   "cell_type": "code",
   "execution_count": 42,
   "id": "9b1f6dc8",
   "metadata": {},
   "outputs": [],
   "source": [
    "a=1809342"
   ]
  },
  {
   "cell_type": "code",
   "execution_count": 43,
   "id": "972f0e37",
   "metadata": {
    "scrolled": true
   },
   "outputs": [
    {
     "name": "stdout",
     "output_type": "stream",
     "text": [
      "True\n"
     ]
    }
   ],
   "source": [
    "a=bool(a)\n",
    "print(a)"
   ]
  },
  {
   "cell_type": "raw",
   "id": "56be0dcb",
   "metadata": {},
   "source": [
    "Type Casting"
   ]
  },
  {
   "cell_type": "raw",
   "id": "d7b0a4e4",
   "metadata": {},
   "source": [
    "Memory of variable"
   ]
  },
  {
   "cell_type": "code",
   "execution_count": 45,
   "id": "04c5a11a",
   "metadata": {},
   "outputs": [],
   "source": [
    "a=1\n",
    "b=2\n",
    "c=3"
   ]
  },
  {
   "cell_type": "code",
   "execution_count": 46,
   "id": "07dc3ae1",
   "metadata": {},
   "outputs": [
    {
     "data": {
      "text/plain": [
       "2905231747376"
      ]
     },
     "execution_count": 46,
     "metadata": {},
     "output_type": "execute_result"
    }
   ],
   "source": [
    "id(a)"
   ]
  },
  {
   "cell_type": "code",
   "execution_count": 47,
   "id": "4fa7d59b",
   "metadata": {},
   "outputs": [
    {
     "data": {
      "text/plain": [
       "2905231747408"
      ]
     },
     "execution_count": 47,
     "metadata": {},
     "output_type": "execute_result"
    }
   ],
   "source": [
    "id(b)"
   ]
  },
  {
   "cell_type": "code",
   "execution_count": 48,
   "id": "4e33aa62",
   "metadata": {},
   "outputs": [
    {
     "data": {
      "text/plain": [
       "2905231747440"
      ]
     },
     "execution_count": 48,
     "metadata": {},
     "output_type": "execute_result"
    }
   ],
   "source": [
    "id(c)"
   ]
  },
  {
   "cell_type": "code",
   "execution_count": 49,
   "id": "cd11348c",
   "metadata": {},
   "outputs": [],
   "source": [
    "c= c+5"
   ]
  },
  {
   "cell_type": "code",
   "execution_count": 50,
   "id": "3031f7e3",
   "metadata": {},
   "outputs": [
    {
     "data": {
      "text/plain": [
       "2905231747600"
      ]
     },
     "execution_count": 50,
     "metadata": {},
     "output_type": "execute_result"
    }
   ],
   "source": [
    "id(c)"
   ]
  },
  {
   "cell_type": "code",
   "execution_count": 51,
   "id": "817a1be3",
   "metadata": {},
   "outputs": [],
   "source": [
    "c=1"
   ]
  },
  {
   "cell_type": "code",
   "execution_count": 52,
   "id": "8ce92905",
   "metadata": {},
   "outputs": [
    {
     "name": "stdout",
     "output_type": "stream",
     "text": [
      "2905231747376 2905231747376\n"
     ]
    }
   ],
   "source": [
    "print(id(a),id(c))"
   ]
  },
  {
   "cell_type": "code",
   "execution_count": null,
   "id": "5b9a21e5",
   "metadata": {},
   "outputs": [],
   "source": []
  }
 ],
 "metadata": {
  "kernelspec": {
   "display_name": "Python 3 (ipykernel)",
   "language": "python",
   "name": "python3"
  },
  "language_info": {
   "codemirror_mode": {
    "name": "ipython",
    "version": 3
   },
   "file_extension": ".py",
   "mimetype": "text/x-python",
   "name": "python",
   "nbconvert_exporter": "python",
   "pygments_lexer": "ipython3",
   "version": "3.9.13"
  }
 },
 "nbformat": 4,
 "nbformat_minor": 5
}
